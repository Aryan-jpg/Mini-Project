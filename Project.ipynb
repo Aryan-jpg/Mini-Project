{
  "nbformat": 4,
  "nbformat_minor": 0,
  "metadata": {
    "colab": {
      "name": "Project.ipynb",
      "provenance": [],
      "collapsed_sections": [],
      "mount_file_id": "1V2nzMsIt7rN5ILieERLHO2GyWYQPOl3h",
      "authorship_tag": "ABX9TyN0RdbsokjkOWxwGzAohaJt",
      "include_colab_link": true
    },
    "kernelspec": {
      "name": "python3",
      "display_name": "Python 3"
    },
    "language_info": {
      "name": "python"
    }
  },
  "cells": [
    {
      "cell_type": "markdown",
      "metadata": {
        "id": "view-in-github",
        "colab_type": "text"
      },
      "source": [
        "<a href=\"https://colab.research.google.com/github/Aryan-jpg/Mini-Project/blob/main/Project.ipynb\" target=\"_parent\"><img src=\"https://colab.research.google.com/assets/colab-badge.svg\" alt=\"Open In Colab\"/></a>"
      ]
    },
    {
      "cell_type": "code",
      "metadata": {
        "id": "pPVsmLyA-BYE"
      },
      "source": [
        "import numpy as np\n",
        "from skimage.io import imread\n",
        "from skimage.transform import resize \n",
        "import os \n",
        "import matplotlib.pyplot as plt\n",
        "\n",
        "target=[]\n",
        "images=[]\n",
        "flatdata=[]\n",
        "\n",
        "data='/content/drive/MyDrive/project'\n",
        "categories=['apple','banana','pineapple']\n",
        "for c in categories:\n",
        "  value=categories.index(c)\n",
        "  path=os.path.join(data,c)\n",
        "  for img in os.listdir(path):\n",
        "    images=imread(os.path.join(path,img))\n",
        "    img_resize=resize(images,(120,120,3))\n",
        "    flatdata.append(img_resize.flatten())\n",
        "    target.append(value)\n",
        "\n",
        "flatdata=np.array(flatdata)\n",
        "target=np.array(target)\n",
        "\n",
        "\n",
        "\n"
      ],
      "execution_count": 1,
      "outputs": []
    },
    {
      "cell_type": "code",
      "metadata": {
        "id": "ZDp1sPAwL_C9"
      },
      "source": [
        "from sklearn.model_selection import train_test_split\n",
        "x_train,x_test,y_train,y_test=train_test_split(flatdata,target,test_size=0.25,random_state=10)\n"
      ],
      "execution_count": 2,
      "outputs": []
    },
    {
      "cell_type": "code",
      "metadata": {
        "colab": {
          "base_uri": "https://localhost:8080/"
        },
        "id": "qnKYzxYY3ZTj",
        "outputId": "f67d2486-557b-4819-df9c-e88b39ccf070"
      },
      "source": [
        "len(x_test)"
      ],
      "execution_count": 3,
      "outputs": [
        {
          "output_type": "execute_result",
          "data": {
            "text/plain": [
              "34"
            ]
          },
          "metadata": {
            "tags": []
          },
          "execution_count": 3
        }
      ]
    },
    {
      "cell_type": "code",
      "metadata": {
        "colab": {
          "base_uri": "https://localhost:8080/"
        },
        "id": "PU_KpQAGL_pd",
        "outputId": "4b88ac4f-aa08-4537-e741-b5a3c052316b"
      },
      "source": [
        "from sklearn.model_selection import GridSearchCV\n",
        "from sklearn import svm\n",
        "param_grid=[\n",
        "             {'C': [1, 10, 100], 'gamma': [0.1,0.01,0.001],'kernel': ['rbf', 'poly', 'sigmoid']},\n",
        "          ]\n",
        "\n",
        "svc=svm.SVC(probability=True)\n",
        "grid=GridSearchCV(svc,param_grid)\n",
        "grid.fit(x_train,y_train)\n"
      ],
      "execution_count": 4,
      "outputs": [
        {
          "output_type": "execute_result",
          "data": {
            "text/plain": [
              "GridSearchCV(cv=None, error_score=nan,\n",
              "             estimator=SVC(C=1.0, break_ties=False, cache_size=200,\n",
              "                           class_weight=None, coef0=0.0,\n",
              "                           decision_function_shape='ovr', degree=3,\n",
              "                           gamma='scale', kernel='rbf', max_iter=-1,\n",
              "                           probability=True, random_state=None, shrinking=True,\n",
              "                           tol=0.001, verbose=False),\n",
              "             iid='deprecated', n_jobs=None,\n",
              "             param_grid=[{'C': [1, 10, 100], 'gamma': [0.1, 0.01, 0.001],\n",
              "                          'kernel': ['rbf', 'poly', 'sigmoid']}],\n",
              "             pre_dispatch='2*n_jobs', refit=True, return_train_score=False,\n",
              "             scoring=None, verbose=0)"
            ]
          },
          "metadata": {
            "tags": []
          },
          "execution_count": 4
        }
      ]
    },
    {
      "cell_type": "code",
      "metadata": {
        "colab": {
          "base_uri": "https://localhost:8080/"
        },
        "id": "ilwUukwlK5Ev",
        "outputId": "25333240-d918-417a-c6cc-59d881554230"
      },
      "source": [
        "y_pred=grid.predict(x_test)\n",
        "y_pred\n"
      ],
      "execution_count": 5,
      "outputs": [
        {
          "output_type": "execute_result",
          "data": {
            "text/plain": [
              "array([2, 1, 0, 1, 2, 1, 2, 0, 2, 2, 0, 0, 1, 0, 2, 2, 2, 0, 0, 0, 0, 2,\n",
              "       2, 2, 2, 2, 1, 1, 2, 0, 1, 0, 0, 2])"
            ]
          },
          "metadata": {
            "tags": []
          },
          "execution_count": 5
        }
      ]
    },
    {
      "cell_type": "code",
      "metadata": {
        "colab": {
          "base_uri": "https://localhost:8080/"
        },
        "id": "GTbjJw5GgpeK",
        "outputId": "fe2241d5-907f-4611-ee77-8f12902ac3c7"
      },
      "source": [
        "y_test"
      ],
      "execution_count": 6,
      "outputs": [
        {
          "output_type": "execute_result",
          "data": {
            "text/plain": [
              "array([1, 1, 0, 1, 2, 1, 2, 2, 2, 1, 0, 0, 1, 2, 2, 2, 1, 0, 0, 0, 0, 2,\n",
              "       2, 1, 2, 1, 1, 1, 0, 0, 1, 0, 0, 2])"
            ]
          },
          "metadata": {
            "tags": []
          },
          "execution_count": 6
        }
      ]
    },
    {
      "cell_type": "code",
      "metadata": {
        "colab": {
          "base_uri": "https://localhost:8080/"
        },
        "id": "u8ZLUiq0grbX",
        "outputId": "221f5476-03a0-4e83-b337-cd52a91702be"
      },
      "source": [
        "from sklearn.metrics import confusion_matrix,accuracy_score\n",
        "confusion_matrix(y_pred,y_test)\n"
      ],
      "execution_count": 7,
      "outputs": [
        {
          "output_type": "execute_result",
          "data": {
            "text/plain": [
              "array([[10,  0,  2],\n",
              "       [ 0,  7,  0],\n",
              "       [ 1,  5,  9]])"
            ]
          },
          "metadata": {
            "tags": []
          },
          "execution_count": 7
        }
      ]
    },
    {
      "cell_type": "code",
      "metadata": {
        "colab": {
          "base_uri": "https://localhost:8080/"
        },
        "id": "Fbj8pIYRg-tl",
        "outputId": "50bf17c1-2821-4fc9-fbf0-ae3c60512202"
      },
      "source": [
        "svcacc1=accuracy_score(y_pred,y_test)\n",
        "svcacc1"
      ],
      "execution_count": 8,
      "outputs": [
        {
          "output_type": "execute_result",
          "data": {
            "text/plain": [
              "0.7647058823529411"
            ]
          },
          "metadata": {
            "tags": []
          },
          "execution_count": 8
        }
      ]
    },
    {
      "cell_type": "code",
      "metadata": {
        "colab": {
          "base_uri": "https://localhost:8080/"
        },
        "id": "lhlGPgJihEKI",
        "outputId": "bef4bde3-c6fd-4554-a013-682763119f5e"
      },
      "source": [
        "#algo 1\n",
        "from sklearn.svm import SVC\n",
        "model1=SVC()\n",
        "model1.fit(x_train,y_train)\n",
        "y_pred=model1.predict(x_test)\n",
        "y_pred"
      ],
      "execution_count": 9,
      "outputs": [
        {
          "output_type": "execute_result",
          "data": {
            "text/plain": [
              "array([2, 1, 0, 1, 2, 1, 2, 2, 2, 2, 0, 0, 1, 0, 2, 2, 2, 0, 2, 0, 0, 2,\n",
              "       0, 2, 2, 1, 1, 1, 2, 0, 1, 0, 0, 2])"
            ]
          },
          "metadata": {
            "tags": []
          },
          "execution_count": 9
        }
      ]
    },
    {
      "cell_type": "code",
      "metadata": {
        "colab": {
          "base_uri": "https://localhost:8080/"
        },
        "id": "Q7xVs2RpjOnv",
        "outputId": "d9bc6dcd-2743-4740-bc2a-7aaf9621f0e8"
      },
      "source": [
        "y_test"
      ],
      "execution_count": 10,
      "outputs": [
        {
          "output_type": "execute_result",
          "data": {
            "text/plain": [
              "array([1, 1, 0, 1, 2, 1, 2, 2, 2, 1, 0, 0, 1, 2, 2, 2, 1, 0, 0, 0, 0, 2,\n",
              "       2, 1, 2, 1, 1, 1, 0, 0, 1, 0, 0, 2])"
            ]
          },
          "metadata": {
            "tags": []
          },
          "execution_count": 10
        }
      ]
    },
    {
      "cell_type": "code",
      "metadata": {
        "colab": {
          "base_uri": "https://localhost:8080/"
        },
        "id": "8ze69QepjQkz",
        "outputId": "99344499-995b-4c51-8f43-c2157185d60f"
      },
      "source": [
        "svcacc=accuracy_score(y_pred,y_test)\n",
        "svcacc"
      ],
      "execution_count": 11,
      "outputs": [
        {
          "output_type": "execute_result",
          "data": {
            "text/plain": [
              "0.7647058823529411"
            ]
          },
          "metadata": {
            "tags": []
          },
          "execution_count": 11
        }
      ]
    },
    {
      "cell_type": "code",
      "metadata": {
        "colab": {
          "base_uri": "https://localhost:8080/"
        },
        "id": "nOqxOzUfjWU7",
        "outputId": "0b9a7b7d-87a9-4a46-c98f-da9c1100294a"
      },
      "source": [
        "#algo2\n",
        "from xgboost import XGBClassifier\n",
        "model2=XGBClassifier()\n",
        "model2.fit(x_train,y_train)\n",
        "y_pred=model2.predict(x_test)\n",
        "y_pred\n"
      ],
      "execution_count": 12,
      "outputs": [
        {
          "output_type": "execute_result",
          "data": {
            "text/plain": [
              "array([1, 1, 0, 1, 2, 1, 2, 2, 0, 0, 0, 0, 1, 1, 2, 1, 1, 0, 0, 0, 0, 2,\n",
              "       2, 1, 2, 1, 1, 1, 2, 0, 1, 0, 0, 2])"
            ]
          },
          "metadata": {
            "tags": []
          },
          "execution_count": 12
        }
      ]
    },
    {
      "cell_type": "code",
      "metadata": {
        "colab": {
          "base_uri": "https://localhost:8080/"
        },
        "id": "oVgTvNDujx9V",
        "outputId": "fc37088f-045c-4554-d4b3-2f2c904dac3e"
      },
      "source": [
        "confusion_matrix(y_pred,y_test)"
      ],
      "execution_count": 13,
      "outputs": [
        {
          "output_type": "execute_result",
          "data": {
            "text/plain": [
              "array([[10,  1,  1],\n",
              "       [ 0, 11,  2],\n",
              "       [ 1,  0,  8]])"
            ]
          },
          "metadata": {
            "tags": []
          },
          "execution_count": 13
        }
      ]
    },
    {
      "cell_type": "code",
      "metadata": {
        "colab": {
          "base_uri": "https://localhost:8080/"
        },
        "id": "YqvyYPQEkAoq",
        "outputId": "d71a2819-b761-4d66-9bdb-6563c3031b9b"
      },
      "source": [
        "xgacc=accuracy_score(y_pred,y_test)\n",
        "xgacc"
      ],
      "execution_count": 14,
      "outputs": [
        {
          "output_type": "execute_result",
          "data": {
            "text/plain": [
              "0.8529411764705882"
            ]
          },
          "metadata": {
            "tags": []
          },
          "execution_count": 14
        }
      ]
    },
    {
      "cell_type": "code",
      "metadata": {
        "id": "cGaHR51pkBlx",
        "colab": {
          "base_uri": "https://localhost:8080/"
        },
        "outputId": "07f8cde2-e7a7-4c19-cf4e-bfadef905cb0"
      },
      "source": [
        "#algo3\n",
        "from sklearn.ensemble import RandomForestClassifier\n",
        "randomf=RandomForestClassifier(n_estimators=50,random_state=0)\n",
        "randomf.fit(x_train, y_train)\n",
        "y_pred = randomf.predict(x_test)\n",
        "y_pred"
      ],
      "execution_count": 15,
      "outputs": [
        {
          "output_type": "execute_result",
          "data": {
            "text/plain": [
              "array([1, 1, 0, 1, 2, 1, 0, 2, 2, 2, 0, 0, 1, 2, 2, 2, 1, 0, 0, 0, 0, 2,\n",
              "       2, 2, 2, 2, 1, 1, 2, 0, 1, 0, 0, 2])"
            ]
          },
          "metadata": {
            "tags": []
          },
          "execution_count": 15
        }
      ]
    },
    {
      "cell_type": "code",
      "metadata": {
        "colab": {
          "base_uri": "https://localhost:8080/"
        },
        "id": "irTM4W30r_q3",
        "outputId": "6d7d2745-69ec-4ecc-8d03-5ab5bc47b7e7"
      },
      "source": [
        "confusion_matrix(y_pred,y_test)"
      ],
      "execution_count": 16,
      "outputs": [
        {
          "output_type": "execute_result",
          "data": {
            "text/plain": [
              "array([[10,  0,  1],\n",
              "       [ 0,  9,  0],\n",
              "       [ 1,  3, 10]])"
            ]
          },
          "metadata": {
            "tags": []
          },
          "execution_count": 16
        }
      ]
    },
    {
      "cell_type": "code",
      "metadata": {
        "colab": {
          "base_uri": "https://localhost:8080/"
        },
        "id": "t9w7zU_VsJOD",
        "outputId": "4a2a32e8-3515-476e-cf94-e8765d449ed0"
      },
      "source": [
        "randomfacc=accuracy_score(y_pred,y_test)\n",
        "randomfacc"
      ],
      "execution_count": 17,
      "outputs": [
        {
          "output_type": "execute_result",
          "data": {
            "text/plain": [
              "0.8529411764705882"
            ]
          },
          "metadata": {
            "tags": []
          },
          "execution_count": 17
        }
      ]
    },
    {
      "cell_type": "code",
      "metadata": {
        "colab": {
          "base_uri": "https://localhost:8080/"
        },
        "id": "dL2ZXAiRsZ5z",
        "outputId": "b6c0dcb1-8932-4f32-ba9c-7dab9168a8f1"
      },
      "source": [
        "#algo4\n",
        "from sklearn.neighbors import KNeighborsClassifier\n",
        "knn = KNeighborsClassifier(n_neighbors = 10)\n",
        "knn.fit(x_train,y_train)\n",
        "y_pred=knn.predict(x_test)\n",
        "y_pred\n"
      ],
      "execution_count": 18,
      "outputs": [
        {
          "output_type": "execute_result",
          "data": {
            "text/plain": [
              "array([1, 1, 0, 1, 2, 0, 0, 0, 0, 0, 0, 0, 1, 0, 2, 2, 1, 0, 0, 0, 0, 1,\n",
              "       0, 1, 2, 1, 1, 1, 2, 2, 1, 0, 0, 2])"
            ]
          },
          "metadata": {
            "tags": []
          },
          "execution_count": 18
        }
      ]
    },
    {
      "cell_type": "code",
      "metadata": {
        "colab": {
          "base_uri": "https://localhost:8080/"
        },
        "id": "lfh6J_OO3MP-",
        "outputId": "fb0b64f0-8ec0-4bfe-93fb-e46326870e9e"
      },
      "source": [
        "y_test"
      ],
      "execution_count": 19,
      "outputs": [
        {
          "output_type": "execute_result",
          "data": {
            "text/plain": [
              "array([1, 1, 0, 1, 2, 1, 2, 2, 2, 1, 0, 0, 1, 2, 2, 2, 1, 0, 0, 0, 0, 2,\n",
              "       2, 1, 2, 1, 1, 1, 0, 0, 1, 0, 0, 2])"
            ]
          },
          "metadata": {
            "tags": []
          },
          "execution_count": 19
        }
      ]
    },
    {
      "cell_type": "code",
      "metadata": {
        "colab": {
          "base_uri": "https://localhost:8080/"
        },
        "id": "dY6FncPZteIT",
        "outputId": "ee03d259-1636-4098-ac75-34d3229638c3"
      },
      "source": [
        "confusion_matrix(y_pred,y_test)"
      ],
      "execution_count": 20,
      "outputs": [
        {
          "output_type": "execute_result",
          "data": {
            "text/plain": [
              "array([[ 9,  2,  5],\n",
              "       [ 0, 10,  1],\n",
              "       [ 2,  0,  5]])"
            ]
          },
          "metadata": {
            "tags": []
          },
          "execution_count": 20
        }
      ]
    },
    {
      "cell_type": "code",
      "metadata": {
        "colab": {
          "base_uri": "https://localhost:8080/"
        },
        "id": "DEoLSQ2nthOO",
        "outputId": "7b9d0468-b23f-45cc-dfe8-102bf7be8b88"
      },
      "source": [
        "knnacc=accuracy_score(y_pred,y_test)\n",
        "knnacc"
      ],
      "execution_count": 21,
      "outputs": [
        {
          "output_type": "execute_result",
          "data": {
            "text/plain": [
              "0.7058823529411765"
            ]
          },
          "metadata": {
            "tags": []
          },
          "execution_count": 21
        }
      ]
    },
    {
      "cell_type": "code",
      "metadata": {
        "colab": {
          "base_uri": "https://localhost:8080/"
        },
        "id": "lwD5dz-St_cO",
        "outputId": "651d08c0-993e-4a77-9c9a-db9ddd7d8dbe"
      },
      "source": [
        "#algo5\n",
        "from sklearn.naive_bayes import MultinomialNB\n",
        "mul = MultinomialNB()\n",
        "mul.fit(x_train, y_train)\n",
        "y_pred=mul.predict(x_test)\n",
        "y_pred"
      ],
      "execution_count": 22,
      "outputs": [
        {
          "output_type": "execute_result",
          "data": {
            "text/plain": [
              "array([1, 1, 0, 2, 1, 2, 0, 1, 1, 0, 0, 0, 1, 1, 2, 2, 1, 0, 2, 0, 0, 1,\n",
              "       0, 1, 2, 1, 1, 1, 2, 2, 1, 1, 0, 2])"
            ]
          },
          "metadata": {
            "tags": []
          },
          "execution_count": 22
        }
      ]
    },
    {
      "cell_type": "code",
      "metadata": {
        "colab": {
          "base_uri": "https://localhost:8080/"
        },
        "id": "brfFE1k63G1K",
        "outputId": "8152028a-a9a5-4a4d-f1fb-084ced5f0197"
      },
      "source": [
        "y_test"
      ],
      "execution_count": 23,
      "outputs": [
        {
          "output_type": "execute_result",
          "data": {
            "text/plain": [
              "array([1, 1, 0, 1, 2, 1, 2, 2, 2, 1, 0, 0, 1, 2, 2, 2, 1, 0, 0, 0, 0, 2,\n",
              "       2, 1, 2, 1, 1, 1, 0, 0, 1, 0, 0, 2])"
            ]
          },
          "metadata": {
            "tags": []
          },
          "execution_count": 23
        }
      ]
    },
    {
      "cell_type": "code",
      "metadata": {
        "colab": {
          "base_uri": "https://localhost:8080/"
        },
        "id": "g-jXcKx-uZPU",
        "outputId": "bf72c396-da9e-4629-98df-b2479b6a75f6"
      },
      "source": [
        "confusion_matrix(y_pred,y_test)"
      ],
      "execution_count": 24,
      "outputs": [
        {
          "output_type": "execute_result",
          "data": {
            "text/plain": [
              "array([[7, 1, 2],\n",
              "       [1, 9, 5],\n",
              "       [3, 2, 4]])"
            ]
          },
          "metadata": {
            "tags": []
          },
          "execution_count": 24
        }
      ]
    },
    {
      "cell_type": "code",
      "metadata": {
        "colab": {
          "base_uri": "https://localhost:8080/"
        },
        "id": "RUmeJKQEucgT",
        "outputId": "702d0b99-575c-46e4-aa06-8cb0afac29a4"
      },
      "source": [
        "mulacc=accuracy_score(y_pred,y_test)\n",
        "mulacc"
      ],
      "execution_count": 25,
      "outputs": [
        {
          "output_type": "execute_result",
          "data": {
            "text/plain": [
              "0.5882352941176471"
            ]
          },
          "metadata": {
            "tags": []
          },
          "execution_count": 25
        }
      ]
    },
    {
      "cell_type": "code",
      "metadata": {
        "id": "hUFdgBBD0QjA"
      },
      "source": [
        "#pickle \n",
        "import pickle\n",
        "pickle.dump(model2,open('img.p','wb'))\n"
      ],
      "execution_count": 26,
      "outputs": []
    },
    {
      "cell_type": "code",
      "metadata": {
        "id": "prIhIvlTdO9L"
      },
      "source": [
        "#logic=pickle.load(open('img.p','rb'))\n"
      ],
      "execution_count": 27,
      "outputs": []
    },
    {
      "cell_type": "code",
      "metadata": {
        "id": "Rjsuxrl8deeZ"
      },
      "source": [
        "#flat_data=[]\n",
        "#url=input('enter img url')\n",
        "#img=imread(url)\n",
        "#img_re=resize(img,(120,120,3))\n",
        "#flat_data.append(img_re.flatten())\n",
        "#flat_data=np.array(flat_data)\n",
        "#plt.imshow(img_re)\n",
        "#out=logic.predict(flat_data)\n",
        "#output=categories[out[0]]\n",
        "#print(f'the img is={output}')"
      ],
      "execution_count": 28,
      "outputs": []
    },
    {
      "cell_type": "code",
      "metadata": {
        "colab": {
          "base_uri": "https://localhost:8080/"
        },
        "id": "XNBnwi6nfkpt",
        "outputId": "0f814524-958d-40ff-dace-7678bde257b5"
      },
      "source": [
        "!pip install streamlit --quiet\n",
        "!pip install pyngrok==4.1.1 --quiet\n",
        "from pyngrok import ngrok\n"
      ],
      "execution_count": 29,
      "outputs": [
        {
          "output_type": "stream",
          "text": [
            "  Building wheel for pyngrok (setup.py) ... \u001b[?25l\u001b[?25hdone\n"
          ],
          "name": "stdout"
        }
      ]
    },
    {
      "cell_type": "code",
      "metadata": {
        "colab": {
          "base_uri": "https://localhost:8080/"
        },
        "id": "vhks8wNw1Mzh",
        "outputId": "26b7fc83-72b6-470d-ea95-32730b55dbcc"
      },
      "source": [
        "%%writefile app.py\n",
        "import streamlit as st\n",
        "from PIL import Image\n",
        "import numpy as np\n",
        "from skimage.io import imread\n",
        "from skimage.transform import resize\n",
        "import pickle\n",
        "categories=['apple','banana','pineapple'] \n",
        "flatdata=[]\n",
        "st.title('Image Classifier')\n",
        "st.header('Upload a image')\n",
        "logic=pickle.load(open('img.p','rb'))\n",
        "uploaded_file=st.file_uploader('UPLOAD HERE',type='jpg') \n",
        "if uploaded_file is not None:\n",
        "  img=Image.open(uploaded_file)\n",
        "  st.image(img,caption='Uploaded image')\n",
        "  if st.button('Predict'):\n",
        "    st.title('Result....')\n",
        "    img=np.array(img)\n",
        "    img_resized=resize(img,(120,120,3))\n",
        "    flatdata.append(img_resized.flatten())\n",
        "    flatdata=np.array(flatdata)\n",
        "    y_out=logic.predict(flatdata)\n",
        "    y_out=categories[y_out[0]]\n",
        "    st.write(f'The Predicted output fot the given image is = \"{y_out}\"')\n"
      ],
      "execution_count": 35,
      "outputs": [
        {
          "output_type": "stream",
          "text": [
            "Overwriting app.py\n"
          ],
          "name": "stdout"
        }
      ]
    },
    {
      "cell_type": "code",
      "metadata": {
        "colab": {
          "base_uri": "https://localhost:8080/"
        },
        "id": "sQBgSkcXC9ll",
        "outputId": "49d370de-456c-4c65-8bc8-4403c0a7a224"
      },
      "source": [
        "!nohup streamlit run app.py &\n",
        "url = ngrok.connect(port='8501')\n",
        "print(url)\n"
      ],
      "execution_count": 31,
      "outputs": [
        {
          "output_type": "stream",
          "text": [
            "nohup: appending output to 'nohup.out'\n",
            "http://6c03fa6e07e0.ngrok.io\n"
          ],
          "name": "stdout"
        }
      ]
    },
    {
      "cell_type": "code",
      "metadata": {
        "id": "76ZrAlXKGX5K"
      },
      "source": [
        ""
      ],
      "execution_count": 31,
      "outputs": []
    }
  ]
}